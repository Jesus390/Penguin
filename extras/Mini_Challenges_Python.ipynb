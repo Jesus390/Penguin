{
  "nbformat": 4,
  "nbformat_minor": 0,
  "metadata": {
    "colab": {
      "provenance": [],
      "toc_visible": true
    },
    "kernelspec": {
      "name": "python3",
      "display_name": "Python 3"
    },
    "language_info": {
      "name": "python"
    }
  },
  "cells": [
    {
      "cell_type": "markdown",
      "source": [
        "# Dia 1 - Inversión de una Cadena\n",
        "Escribe un programa que invierta una cadena de caracteres dada por el\n",
        "usuario."
      ],
      "metadata": {
        "id": "93ZARMDue0cG"
      }
    },
    {
      "cell_type": "code",
      "execution_count": 1,
      "metadata": {
        "colab": {
          "base_uri": "https://localhost:8080/"
        },
        "id": "vqRcCxXZelKR",
        "outputId": "524104ca-bd6c-4134-e012-4ceca78a0273"
      },
      "outputs": [
        {
          "output_type": "stream",
          "name": "stdout",
          "text": [
            "Ingrese una cadena de caracteres: Hola a todos\n",
            "La cadena invertida es: sodot a aloH\n"
          ]
        }
      ],
      "source": [
        "def invertir_cadena(cadena):\n",
        "    cadena_invertida = \"\"\n",
        "    for i in range(len(cadena) - 1, -1, -1):\n",
        "        cadena_invertida += cadena[i]\n",
        "    return cadena_invertida\n",
        "\n",
        "cadena = input(\"Ingrese una cadena de caracteres: \")\n",
        "cadena_invertida = invertir_cadena(cadena)\n",
        "print(\"La cadena invertida es:\", cadena_invertida)"
      ]
    },
    {
      "cell_type": "markdown",
      "source": [
        "# Dia 2 - Tabla de Multiplicar\n",
        "Escribe un programa que muestre la tabla de multiplicar de un número\n",
        "dado por el usuario.\n"
      ],
      "metadata": {
        "id": "xdHjYoNami39"
      }
    },
    {
      "cell_type": "code",
      "source": [
        "def tabla_multiplicar(numero):\n",
        "    for i in range(1, 11):\n",
        "        print(numero, \"x\", i, \"=\", numero * i)\n",
        "\n",
        "numero = int(input(\"Ingrese un número: \"))\n",
        "tabla_multiplicar(numero)\n"
      ],
      "metadata": {
        "colab": {
          "base_uri": "https://localhost:8080/"
        },
        "id": "nkGF3x_Fmkbq",
        "outputId": "95c0af6f-f192-4290-e581-ce30a67d6341"
      },
      "execution_count": 2,
      "outputs": [
        {
          "output_type": "stream",
          "name": "stdout",
          "text": [
            "Ingrese un número: 2\n",
            "2 x 1 = 2\n",
            "2 x 2 = 4\n",
            "2 x 3 = 6\n",
            "2 x 4 = 8\n",
            "2 x 5 = 10\n",
            "2 x 6 = 12\n",
            "2 x 7 = 14\n",
            "2 x 8 = 16\n",
            "2 x 9 = 18\n",
            "2 x 10 = 20\n"
          ]
        }
      ]
    },
    {
      "cell_type": "markdown",
      "source": [
        "# Dia 3 - Contar Vocales\n",
        "Escribe un programa que cuente el número de vocales en una cadena\n",
        "dada.\n"
      ],
      "metadata": {
        "id": "FpdnL8lAmpng"
      }
    },
    {
      "cell_type": "code",
      "source": [
        "def contar_vocales(cadena):\n",
        "    vocales = \"aeiouAEIOU\"\n",
        "    contador = 0\n",
        "    for letra in cadena:\n",
        "        if letra in vocales:\n",
        "            contador += 1\n",
        "    return contador\n",
        "\n",
        "cadena = input(\"Ingrese una cadena de caracteres: \")\n",
        "numero_vocales = contar_vocales(cadena)\n",
        "print(\"El número de vocales en la cadena es:\", numero_vocales)"
      ],
      "metadata": {
        "colab": {
          "base_uri": "https://localhost:8080/"
        },
        "id": "c3EpC4w_mtAd",
        "outputId": "6cb08cb3-9eec-4a39-dd43-9eb1eed910bb"
      },
      "execution_count": 3,
      "outputs": [
        {
          "output_type": "stream",
          "name": "stdout",
          "text": [
            "Ingrese una cadena de caracteres: Murcielago\n",
            "El número de vocales en la cadena es: 5\n"
          ]
        }
      ]
    },
    {
      "cell_type": "markdown",
      "source": [
        "# Dia 4 - Ordenar Lista\n",
        "Escribe un programa que ordene una lista de números dada por el usuario\n",
        "en orden ascendente."
      ],
      "metadata": {
        "id": "aOZAStE-m5jQ"
      }
    },
    {
      "cell_type": "code",
      "source": [
        "def ordenar_lista(lista):\n",
        "    lista.sort()\n",
        "    return lista\n",
        "\n",
        "lista = input(\"Ingrese una lista de números separados por comas: \")\n",
        "lista = [int(x) for x in lista.split(\",\")]\n",
        "lista_ordenada = ordenar_lista(lista)\n",
        "print(\"La lista ordenada es:\", lista_ordenada)"
      ],
      "metadata": {
        "colab": {
          "base_uri": "https://localhost:8080/"
        },
        "id": "Oa12BbgRm62I",
        "outputId": "e6ff1444-b1d6-4a10-8a4d-4782ae716ee3"
      },
      "execution_count": 4,
      "outputs": [
        {
          "output_type": "stream",
          "name": "stdout",
          "text": [
            "Ingrese una lista de números separados por comas: 1, 2,2,1,2,3,54,6,3,2,4\n",
            "La lista ordenada es: [1, 1, 2, 2, 2, 2, 3, 3, 4, 6, 54]\n"
          ]
        }
      ]
    },
    {
      "cell_type": "markdown",
      "source": [
        "# Dia 5 - Crear un Diccionario\n",
        "Escribe un programa que cree un diccionario a partir de dos listas dadas:\n",
        "una de claves y otra de valores."
      ],
      "metadata": {
        "id": "IOl5IH-ZnLjA"
      }
    },
    {
      "cell_type": "code",
      "source": [
        "def crear_diccionario(claves, valores):\n",
        "    diccionario = {}\n",
        "    for i in range(len(claves)):\n",
        "        diccionario[claves[i]] = valores[i]\n",
        "    return diccionario\n",
        "\n",
        "claves = input(\"Ingrese las claves del diccionario separados por comas: \")\n",
        "claves = claves.split(\",\")\n",
        "valores = input(\"Ingrese los valores del diccionario separados por comas: \")\n",
        "valores = valores.split(\",\")\n",
        "diccionario = crear_diccionario(claves, valores)\n",
        "print(\"El diccionario creado es:\", diccionario)"
      ],
      "metadata": {
        "colab": {
          "base_uri": "https://localhost:8080/"
        },
        "id": "9kiaFTB2nR3i",
        "outputId": "7809f82d-6ac6-4cb9-9f2c-c67700360d4f"
      },
      "execution_count": 6,
      "outputs": [
        {
          "output_type": "stream",
          "name": "stdout",
          "text": [
            "Ingrese las claves del diccionario separados por comas: Hola, Bye\n",
            "Ingrese los valores del diccionario separados por comas: Mundo, World\n",
            "El diccionario creado es: {'Hola': 'Mundo', ' Bye': ' World'}\n"
          ]
        }
      ]
    },
    {
      "cell_type": "markdown",
      "source": [
        "# Dia 6 - Conversión de Temperatura\n",
        "Escribe un programa que convierta una temperatura dada en grados\n",
        "Celsius a grados Fahrenheit.\n"
      ],
      "metadata": {
        "id": "ylsQ4iBinn2K"
      }
    },
    {
      "cell_type": "code",
      "source": [
        "def celsius_a_fahrenheit(celsius):\n",
        "    fahrenheit = (celsius * 9/5) + 32\n",
        "    return fahrenheit\n",
        "\n",
        "celsius = float(input(\"Ingrese la temperatura en grados Celsius: \"))\n",
        "fahrenheit = celsius_a_fahrenheit(celsius)\n",
        "print(\"La temperatura en grados Fahrenheit es:\", fahrenheit)"
      ],
      "metadata": {
        "colab": {
          "base_uri": "https://localhost:8080/"
        },
        "id": "BPfGnRDdnq3U",
        "outputId": "77723105-5551-4722-aa80-c71550e82272"
      },
      "execution_count": 7,
      "outputs": [
        {
          "output_type": "stream",
          "name": "stdout",
          "text": [
            "Ingrese la temperatura en grados Celsius: 32\n",
            "La temperatura en grados Fahrenheit es: 89.6\n"
          ]
        }
      ]
    },
    {
      "cell_type": "markdown",
      "source": [
        "# Dia 7 - Juego de Piedra, Papel o Tijeras\n",
        "Escribe un programa que permita al usuario jugar piedra, papel o tijeras\n",
        "contra la computadora.\n"
      ],
      "metadata": {
        "id": "6sW5c3ORn1Ob"
      }
    },
    {
      "cell_type": "code",
      "source": [
        "import random\n",
        "def jugar_piedra_papel_tijeras():\n",
        "    opciones = [\"piedra\", \"papel\", \"tijeras\"]\n",
        "    computadora = random.choice(opciones)\n",
        "    usuario = input(\"Ingrese su elección (piedra, papel o tijeras): \")\n",
        "    print(\"La computadora eligió:\", computadora)\n",
        "    if usuario == computadora:\n",
        "        print(\"Empate\")\n",
        "    elif usuario == \"piedra\" and computadora == \"tijeras\":\n",
        "        print(\"Ganaste\")\n",
        "    elif usuario == \"papel\" and computadora == \"piedra\":\n",
        "        print(\"Ganaste\")\n",
        "    elif usuario == \"tijeras\" and computadora == \"papel\":\n",
        "        print(\"Ganaste\")\n",
        "    else:\n",
        "        print(\"Perdiste\")\n",
        "\n",
        "jugar_piedra_papel_tijeras()"
      ],
      "metadata": {
        "colab": {
          "base_uri": "https://localhost:8080/"
        },
        "id": "CNn-8By6oGk1",
        "outputId": "a5d47019-1048-476c-e430-6fe1d5c7bdfe"
      },
      "execution_count": 8,
      "outputs": [
        {
          "output_type": "stream",
          "name": "stdout",
          "text": [
            "Ingrese su elección (piedra, papel o tijeras): tijeras\n",
            "La computadora eligió: papel\n",
            "Ganaste\n"
          ]
        }
      ]
    },
    {
      "cell_type": "markdown",
      "source": [
        "# Dia 8 - Generador de Contraseñas Seguras\n",
        "Escribe un programa que genere una contraseña segura de longitud\n",
        "variable (entre 8 y 16 caracteres) que incluya letras mayúsculas,\n",
        "minúsculas, números y símbolos."
      ],
      "metadata": {
        "id": "XDd9G-wkoeh5"
      }
    },
    {
      "cell_type": "code",
      "source": [
        "import random\n",
        "def generar_contrasena(longitud):\n",
        "    if longitud < 8 or longitud > 16:\n",
        "        print(\"La longitud de la contraseña debe estar entre 8 y 16 caracteres\")\n",
        "        return\n",
        "    caracteres = \"abcdefghijklmnopqrstuvwxyzABCDEFGHIJKLMNOPQRSTUVWXYZ0123456789!\\\"#$%&'()*+,-./:;<=>?@[\\]^_`{|}~\"\n",
        "    contrasena = \"\"\n",
        "    for i in range(longitud):\n",
        "        contrasena += random.choice(caracteres)\n",
        "    return contrasena\n",
        "\n",
        "longitud = int(input(\"Ingrese la longitud de la contraseña (entre 8 y 16 caracteres): \"))\n",
        "contrasena = generar_contrasena(longitud)\n",
        "print(\"La contraseña generada es:\", contrasena)"
      ],
      "metadata": {
        "colab": {
          "base_uri": "https://localhost:8080/"
        },
        "id": "WelQt0nKofk3",
        "outputId": "4d130df5-8ce9-4faa-cc4f-1290b001142d"
      },
      "execution_count": 10,
      "outputs": [
        {
          "output_type": "stream",
          "name": "stdout",
          "text": [
            "Ingrese la longitud de la contraseña (entre 8 y 16 caracteres): 16\n",
            "La contraseña generada es: 0i2UoKrZI9qf7yai\n"
          ]
        }
      ]
    }
  ]
}