{
 "cells": [
  {
   "cell_type": "code",
   "execution_count": 6,
   "id": "db237218",
   "metadata": {},
   "outputs": [
    {
     "name": "stdout",
     "output_type": "stream",
     "text": [
      "Hola Mundo!!!\n"
     ]
    }
   ],
   "source": [
    "# Challenge 1\n",
    "def print_palabra():\n",
    "    palabra = 'Hola Mundo!!!'\n",
    "    print(palabra)\n",
    "\n",
    "print_palabra()"
   ]
  },
  {
   "cell_type": "code",
   "execution_count": 7,
   "id": "fb4c560e",
   "metadata": {},
   "outputs": [
    {
     "name": "stdout",
     "output_type": "stream",
     "text": [
      "Las letras son diferentes.\n",
      "Las letras son iguales.\n"
     ]
    }
   ],
   "source": [
    "# Challenge 2\n",
    "def comparar_dos_letras(letra_0, letra_1):\n",
    "    if letra_0 == letra_1:\n",
    "        print(\"Las letras son iguales.\")\n",
    "    else:\n",
    "        print(\"Las letras son diferentes.\")\n",
    "\n",
    "# test\n",
    "comparar_dos_letras('a', 'b')\n",
    "comparar_dos_letras('c', 'c')"
   ]
  },
  {
   "cell_type": "code",
   "execution_count": 8,
   "id": "9f638221",
   "metadata": {},
   "outputs": [
    {
     "name": "stdout",
     "output_type": "stream",
     "text": [
      "True\n",
      "False\n"
     ]
    }
   ],
   "source": [
    "# Challenge 3\n",
    "# Crear una funcion que reciba dos parametros (una palabra y un numero), y que retorne\n",
    "# True si el numero es igual a la cantidad de letras de la palabra. En caso contrario, que\n",
    "# retorne False\n",
    "#\n",
    "# Pista: cantidad de letras de una palabra en python\n",
    "\n",
    "def verificar_longitud_palabra(palabra, longitud_palabra):\n",
    "    if len(palabra) ==  longitud_palabra:\n",
    "        return True\n",
    "    return False\n",
    "\n",
    "# test\n",
    "print(verificar_longitud_palabra('Hola', 4))\n",
    "print(verificar_longitud_palabra('Hola', 6))"
   ]
  },
  {
   "cell_type": "code",
   "execution_count": 9,
   "id": "0d919226",
   "metadata": {},
   "outputs": [
    {
     "name": "stdout",
     "output_type": "stream",
     "text": [
      "[['3']]\n",
      "[['3'], ['c', 'u', 'e', 's', 'o']]\n",
      "[['3'], ['c', 'u', 'e', 's', 'o'], ['a', 's', 'd', 'f', 'a', 's', 'd', 'f']]\n"
     ]
    }
   ],
   "source": [
    "# Variables globales\n",
    "contador = 0\n",
    "palabras_ingresadas = []\n",
    "\n",
    "# Ejecuta tres veces un proceso/accion\n",
    "while contador < 3:\n",
    "\n",
    "    # Solicita una palabra al usuario\n",
    "    palabra = input(\"Ingresa una palabra...\")\n",
    "\n",
    "    # Agrega la palabra en una lista 'palabras_ingresadas'\n",
    "    palabras_ingresadas.append(list(palabra))\n",
    "\n",
    "    # Imprime el contenido de la lista\n",
    "    print(palabras_ingresadas)\n",
    "\n",
    "    # Aumenta el valor de la variable \n",
    "    contador += 1\n",
    "\n"
   ]
  },
  {
   "cell_type": "code",
   "execution_count": 10,
   "id": "514b0542",
   "metadata": {},
   "outputs": [
    {
     "name": "stdout",
     "output_type": "stream",
     "text": [
      "['h', 'o', 'l', 'a', 's']\n",
      "['h', 'e', 'l', 'l', 'o']\n",
      "['h', 'a', 'l', 'l', 'o']\n"
     ]
    }
   ],
   "source": [
    "# Challenge 6\n",
    "\n",
    "def print_grilla():\n",
    "    lista = [['h', 'o', 'l', 'a', 's'], ['h', 'e', 'l', 'l', 'o'], ['h', 'a', 'l', 'l', 'o']]\n",
    "    for elemento in lista:\n",
    "        print(elemento)\n",
    "\n",
    "print_grilla()"
   ]
  },
  {
   "cell_type": "code",
   "execution_count": null,
   "id": "003f8a47",
   "metadata": {},
   "outputs": [],
   "source": []
  }
 ],
 "metadata": {
  "kernelspec": {
   "display_name": "bootcamp-venv",
   "language": "python",
   "name": "python3"
  },
  "language_info": {
   "codemirror_mode": {
    "name": "ipython",
    "version": 3
   },
   "file_extension": ".py",
   "mimetype": "text/x-python",
   "name": "python",
   "nbconvert_exporter": "python",
   "pygments_lexer": "ipython3",
   "version": "3.10.7"
  }
 },
 "nbformat": 4,
 "nbformat_minor": 5
}
