{
 "cells": [
  {
   "cell_type": "code",
   "execution_count": 1,
   "id": "1a3c5e88",
   "metadata": {},
   "outputs": [
    {
     "name": "stdout",
     "output_type": "stream",
     "text": [
      "50\n"
     ]
    }
   ],
   "source": [
    "# Suma\n",
    "cantidad_de_manzanas = 20\n",
    "cantidad_de_naranjas = 30\n",
    "cantidad_de_frutas = cantidad_de_manzanas + cantidad_de_naranjas\n",
    "print(cantidad_de_frutas)"
   ]
  },
  {
   "cell_type": "code",
   "execution_count": 2,
   "id": "4e3fc24e",
   "metadata": {},
   "outputs": [
    {
     "name": "stdout",
     "output_type": "stream",
     "text": [
      "40\n"
     ]
    }
   ],
   "source": [
    "# Resta\n",
    "frutas_vendidas = 10\n",
    "frutas_restantes = cantidad_de_frutas - frutas_vendidas\n",
    "print(frutas_restantes)"
   ]
  },
  {
   "cell_type": "code",
   "execution_count": 3,
   "id": "d602b811",
   "metadata": {},
   "outputs": [
    {
     "name": "stdout",
     "output_type": "stream",
     "text": [
      "Hola. Me llamo Camila Torres. Mucho gusto.\n"
     ]
    }
   ],
   "source": [
    "nombre = 'Camila'\n",
    "apellido = 'Torres'\n",
    "print(f\"Hola. Me llamo {nombre} {apellido}. Mucho gusto.\")"
   ]
  },
  {
   "cell_type": "code",
   "execution_count": 4,
   "id": "bbd29f74",
   "metadata": {},
   "outputs": [
    {
     "ename": "ValueError",
     "evalue": "invalid literal for int() with base 10: ''",
     "output_type": "error",
     "traceback": [
      "\u001b[31m---------------------------------------------------------------------------\u001b[39m",
      "\u001b[31mValueError\u001b[39m                                Traceback (most recent call last)",
      "\u001b[36mCell\u001b[39m\u001b[36m \u001b[39m\u001b[32mIn[4]\u001b[39m\u001b[32m, line 1\u001b[39m\n\u001b[32m----> \u001b[39m\u001b[32m1\u001b[39m numero_0 = \u001b[38;5;28;43mint\u001b[39;49m\u001b[43m(\u001b[49m\u001b[38;5;28;43minput\u001b[39;49m\u001b[43m(\u001b[49m\u001b[33;43m\"\u001b[39;49m\u001b[33;43mIngrese un numero\u001b[39;49m\u001b[33;43m\"\u001b[39;49m\u001b[43m)\u001b[49m\u001b[43m)\u001b[49m\n\u001b[32m      2\u001b[39m numero_1 = \u001b[38;5;28mint\u001b[39m(\u001b[38;5;28minput\u001b[39m(\u001b[33m\"\u001b[39m\u001b[33mIngrese un numero\u001b[39m\u001b[33m\"\u001b[39m))\n\u001b[32m      4\u001b[39m \u001b[38;5;28mprint\u001b[39m(\u001b[33mf\u001b[39m\u001b[33m\"\u001b[39m\u001b[38;5;132;01m{\u001b[39;00mnumero_0\u001b[38;5;132;01m}\u001b[39;00m\u001b[33m + \u001b[39m\u001b[38;5;132;01m{\u001b[39;00mnumero_1\u001b[38;5;132;01m}\u001b[39;00m\u001b[33m = \u001b[39m\u001b[38;5;132;01m{\u001b[39;00mnumero_0\u001b[38;5;250m \u001b[39m+\u001b[38;5;250m \u001b[39mnumero_1\u001b[38;5;132;01m}\u001b[39;00m\u001b[33m\"\u001b[39m)\n",
      "\u001b[31mValueError\u001b[39m: invalid literal for int() with base 10: ''"
     ]
    }
   ],
   "source": [
    "numero_0 = int(input(\"Ingrese un numero\"))\n",
    "numero_1 = int(input(\"Ingrese un numero\"))\n",
    "\n",
    "print(f\"{numero_0} + {numero_1} = {numero_0 + numero_1}\")"
   ]
  },
  {
   "cell_type": "code",
   "execution_count": null,
   "id": "e1b874c2",
   "metadata": {},
   "outputs": [
    {
     "name": "stdout",
     "output_type": "stream",
     "text": [
      "Abrir CS 1.6\n",
      "Conectarse a un servidor\n",
      "Jugar :-)\n",
      "Abrir CS 1.6\n",
      "Conectarse a un servidor\n",
      "Jugar :-)\n",
      "Abrir CS 1.6\n",
      "Conectarse a un servidor\n",
      "Jugar :-)\n"
     ]
    }
   ],
   "source": [
    "def pasos_para_jugar_cs1_6():\n",
    "    print(\"Abrir CS 1.6\")\n",
    "    print(\"Conectarse a un servidor\")\n",
    "    print(\"Jugar :-)\")\n",
    "\n",
    "pasos_para_jugar_cs1_6()\n",
    "pasos_para_jugar_cs1_6()\n",
    "pasos_para_jugar_cs1_6()"
   ]
  },
  {
   "cell_type": "code",
   "execution_count": null,
   "id": "204f3438",
   "metadata": {},
   "outputs": [
    {
     "name": "stdout",
     "output_type": "stream",
     "text": [
      "Elemento = TV\n",
      "Caracteristicas = Marca: Samsung, Color: negro, Pulgadas: 32, Smart: si, HDMI: si\n"
     ]
    }
   ],
   "source": [
    "def print_caracteristicas(elemento, caracteristicas):\n",
    "    print(f'Elemento = {elemento}')\n",
    "    print(f'Caracteristicas = {caracteristicas}')\n",
    "\n",
    "print_caracteristicas('TV', 'Marca: Samsung, Color: negro, Pulgadas: 32, Smart: si, HDMI: si')\n",
    "    "
   ]
  }
 ],
 "metadata": {
  "kernelspec": {
   "display_name": ".venv",
   "language": "python",
   "name": "python3"
  },
  "language_info": {
   "codemirror_mode": {
    "name": "ipython",
    "version": 3
   },
   "file_extension": ".py",
   "mimetype": "text/x-python",
   "name": "python",
   "nbconvert_exporter": "python",
   "pygments_lexer": "ipython3",
   "version": "3.12.3"
  }
 },
 "nbformat": 4,
 "nbformat_minor": 5
}
