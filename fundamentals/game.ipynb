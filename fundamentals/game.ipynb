{
 "cells": [
  {
   "cell_type": "markdown",
   "id": "5ebf368d",
   "metadata": {},
   "source": [
    "# Gameplay - d:-)"
   ]
  },
  {
   "cell_type": "code",
   "execution_count": 8,
   "id": "115d1c6f",
   "metadata": {},
   "outputs": [],
   "source": [
    "# Colores Ansi\n",
    "ansi_color_rojo = \"\\033[0;49;31m\"\n",
    "ansi_color_verde = \"\\033[0;49;32m\"\n",
    "ansi_color_amarillo = \"\\033[0;49;33m\"\n",
    "\n",
    "ansi_bg_rojo = \"\\033[7;49;31m\"\n",
    "ansi_bg_verde = \"\\033[7;49;32m\"\n",
    "ansi_bg_amarillo = \"\\033[7;49;33m\"\n",
    "\n",
    "ansi_end = \"\\033[0m\"\n",
    "\n",
    "# lista de las palabras que estara oculta\n",
    "lista_palabras_a_encontrar = ['Playa', 'Manta', 'Vista','Noche','Altar',\n",
    "                  'Silla','Metro','Justo','Caída','Fuego',\n",
    "                  'Tumba','Hongo','Cayos','Arena',]"
   ]
  },
  {
   "cell_type": "markdown",
   "id": "bde2ecb9",
   "metadata": {},
   "source": [
    "## Funciones"
   ]
  },
  {
   "cell_type": "code",
   "execution_count": 9,
   "id": "12144fae",
   "metadata": {},
   "outputs": [],
   "source": [
    "# Imprime una linea horizontal\n",
    "# Se utiliza para separar textos al imprimir \n",
    "def separador(caracter='-', longitud=50):\n",
    "    print(caracter * longitud)"
   ]
  },
  {
   "cell_type": "code",
   "execution_count": 10,
   "id": "55b797d0",
   "metadata": {},
   "outputs": [],
   "source": [
    "# Retorna un numero para el indice de una lista\n",
    "# PD.: esto seria el indice para obtener la palabra oculta\n",
    "def get_palabra_oculta(lista):\n",
    "    longitud_lista = len(lista)\n",
    "    while True:\n",
    "        try:\n",
    "            indice = int(input(f\"Ingresa un numero entre 0 y {longitud_lista}\"))\n",
    "            if indice > longitud_lista or indice < 0: \n",
    "                print(f\"{ansi_color_rojo}Error{ansi_end}: ingresa un numero entre 0 y {len(lista)}\")    \n",
    "                continue\n",
    "            print(\"Se ha generado una palabra oculta.\")\n",
    "            separador()\n",
    "            return indice\n",
    "        except:\n",
    "            print(f\"{ansi_color_rojo}Error{ansi_end}: ingresa un numero entre 0 y {len(lista)}\")"
   ]
  },
  {
   "cell_type": "code",
   "execution_count": null,
   "id": "0bbbd508",
   "metadata": {},
   "outputs": [],
   "source": [
    "# Retorna la palabra ingresada por el usuario\n",
    "# Obs.: solamente retorna si la palabra cumple con una longitud dada\n",
    "def get_palabra(cantidad_caracteres):\n",
    "    palabra = input(f\"Ingrese una palabra de {cantidad_caracteres}\")\n",
    "    while not len(palabra) == cantidad_caracteres:\n",
    "        separador()\n",
    "        print(f\"{ansi_color_rojo}Error{ansi_end}: la longitud ingresada de la palabra debe ser {cantidad_caracteres}.\\nPalabra: {palabra}, longitud: {len(palabra)}\")\n",
    "        palabra = input(f\"Ingrese una palabra de {cantidad_caracteres}\")\n",
    "    return palabra"
   ]
  },
  {
   "cell_type": "code",
   "execution_count": 12,
   "id": "d3566570",
   "metadata": {},
   "outputs": [],
   "source": [
    "# Crea una grilla de la lista dada\n",
    "def imprimir_grilla(lista):\n",
    "    formato = (\"+\" + \"-\"*3)*len(lista) + \"+\\n\"\n",
    "    aux = \"\\t\" + formato\n",
    "    # aux += \"+\\n\"\n",
    "    for i, elemento in enumerate(lista):\n",
    "        if i == 0:\n",
    "            aux += \"\\t\"\n",
    "        aux +=  \"| \" + elemento + \" \" if i < len(lista)-1 else \"| \" + elemento + \" |\\n\" \n",
    "    aux += \"\\t\" + formato\n",
    "    print(aux)"
   ]
  },
  {
   "cell_type": "code",
   "execution_count": 13,
   "id": "a061654a",
   "metadata": {},
   "outputs": [],
   "source": [
    "def obtener_fila_verificada(palabra_a_encontrar, palabra_ingresada):\n",
    "    # Segundo paso: definir la cantidad de letras de la palabra a encontrar.\n",
    "    cantidad_de_letras_de_palabra_a_encontrar = 5\n",
    "\n",
    "    # Tercer paso: Crear una lista vacia para guardar las letras verificadas.\n",
    "    letras_verificadas = []\n",
    "\n",
    "    # Cuarto paso: se recorre cada posicion de la palabra.\n",
    "    for posicion in range(cantidad_de_letras_de_palabra_a_encontrar):\n",
    "        # Quinto paso: comparar las letras en la misma posicion.\n",
    "        las_letras_son_iguales = palabra_a_encontrar[posicion] == palabra_ingresada[posicion]\n",
    "\n",
    "        # Sexto paso: se verifica si la letra existe en la palabra.\n",
    "        la_letra_existe_en_la_palabra = palabra_ingresada[posicion] in palabra_a_encontrar\n",
    "\n",
    "        if las_letras_son_iguales:\n",
    "            letras_verificadas.append(ansi_color_verde + palabra_ingresada[posicion] + ansi_end)\n",
    "            # letras_verificadas.append(\"[\" + palabra_ingresada[posicion] + \"]\")\n",
    "        elif la_letra_existe_en_la_palabra:\n",
    "            letras_verificadas.append(ansi_color_amarillo + palabra_ingresada[posicion] + ansi_end)\n",
    "            # letras_verificadas.append(\"(\" + palabra_ingresada[posicion] + \")\")\n",
    "        else:\n",
    "            letras_verificadas.append(ansi_color_rojo + palabra_ingresada[posicion] + ansi_end)\n",
    "            # letras_verificadas.append(palabra_ingresada[posicion])\n",
    "        \n",
    "    return letras_verificadas"
   ]
  },
  {
   "cell_type": "code",
   "execution_count": null,
   "id": "757b72d4",
   "metadata": {},
   "outputs": [
    {
     "name": "stdout",
     "output_type": "stream",
     "text": [
      "\t\u001b[7;49;32m*** ADIVINA LA PALABRA OCULTA!!!\u001b[0m\n",
      "--------------------------------------------------\n",
      "Se ha generado una palabra oculta.\n",
      "--------------------------------------------------\n",
      "INFO\n",
      "\u001b[0;49;32m- Si la letra existe y está en la posición correcta la letra será de color verde.\u001b[0m\n",
      "\u001b[0;49;33m- Si la letra existe y no está en la posición correcta la letra será de color amarilla.\u001b[0m\n",
      "\u001b[0;49;31m- Si la letra no existe en la palabra oculta será de color roja.\u001b[0m\n",
      "--------------------------------------------------\n",
      "Intentos: 3\n",
      "--------------------------------------------------\n",
      "--------------------------------------------------\n",
      "\u001b[0;49;31mError\u001b[0m: la longitud ingresada de la palabra debe ser               5.\n",
      "Palabra: asdffff, longitud: 7\n",
      "\t+---+---+---+---+---+\n",
      "\t| \u001b[0;49;33ma\u001b[0m | \u001b[0;49;33ms\u001b[0m | \u001b[0;49;31md\u001b[0m | \u001b[0;49;31mf\u001b[0m | \u001b[0;49;31md\u001b[0m |\n",
      "\t+---+---+---+---+---+\n",
      "\n",
      "\u001b[7;49;33m- Te quedan 2 intentos.\u001b[0m\n",
      "--------------------------------------------------\n",
      "\t+---+---+---+---+---+\n",
      "\t| \u001b[0;49;33ma\u001b[0m | \u001b[0;49;33ms\u001b[0m | \u001b[0;49;31md\u001b[0m | \u001b[0;49;31mf\u001b[0m | \u001b[0;49;31mf\u001b[0m |\n",
      "\t+---+---+---+---+---+\n",
      "\n",
      "\u001b[7;49;33m- Te quedan 1 intentos.\u001b[0m\n",
      "--------------------------------------------------\n",
      "\t+---+---+---+---+---+\n",
      "\t| \u001b[0;49;33ma\u001b[0m | \u001b[0;49;33ms\u001b[0m | \u001b[0;49;31md\u001b[0m | \u001b[0;49;31mf\u001b[0m | \u001b[0;49;31me\u001b[0m |\n",
      "\t+---+---+---+---+---+\n",
      "\n",
      "\u001b[7;49;33m- Te quedan 0 intentos.\u001b[0m\n",
      "--------------------------------------------------\n",
      "\u001b[0;49;31m===> TE QUEDASTE SIN INTENTOS <===\u001b[0m\n",
      "- La palabra oculta es: \u001b[0;49;32mCayos\u001b[0m\n"
     ]
    }
   ],
   "source": [
    "print(f\"\\t{ansi_bg_verde}*** ADIVINA LA PALABRA OCULTA!!!{ansi_end}\")\n",
    "separador()\n",
    "\n",
    "# Solicita al usuario un numero dado la cantidad de elementos que\n",
    "# contiene la lista de las palabras ocultas\n",
    "indice_palabra_oculta = get_palabra_oculta(lista_palabras_a_encontrar)\n",
    "\n",
    "# Obtenemos la palabra que estará oculta\n",
    "palabra_a_encontrar = lista_palabras_a_encontrar[indice_palabra_oculta]\n",
    "\n",
    "# Muestra una pequeña información para el usuario\n",
    "print(\"INFO\")\n",
    "print(f\"{ansi_color_verde}- Si la letra existe y está en la posición correcta la letra será de color verde.{ansi_end}\")\n",
    "print(f\"{ansi_color_amarillo}- Si la letra existe y no está en la posición correcta la letra será de color amarilla.{ansi_end}\")\n",
    "print(f\"{ansi_color_rojo}- Si la letra no existe en la palabra oculta será de color roja.{ansi_end}\")\n",
    "separador()\n",
    "\n",
    "# Cantidad de intentos\n",
    "intentos = 3\n",
    "print(\"Intentos: 3\")\n",
    "separador()\n",
    "\n",
    "# Recorremos cantidad de intentos disponibles\n",
    "while intentos > 0:\n",
    "    \n",
    "    # Solicita una palabra al usuario\n",
    "    # PD.: continua solicitando hasta que el usuario ingrese una\n",
    "    # palabra con la longitud pasada como argumento\n",
    "    palabra_ingresada = get_palabra(5)\n",
    "\n",
    "    # Verifica si las letras de la palabra ingresada por el usuario\n",
    "    # son iguales o están en la palabra oculta\n",
    "    valor = obtener_fila_verificada(palabra_a_encontrar, palabra_ingresada)\n",
    "\n",
    "    # Imprime una grilla alrededor de los datos verficados\n",
    "    imprimir_grilla(valor)\n",
    "\n",
    "    # Muestra los intentos faltantes\n",
    "    intentos -= 1\n",
    "    print(f'{ansi_bg_amarillo}- Te quedan {intentos} intentos.{ansi_end}')\n",
    "    separador()\n",
    "    \n",
    "    # Verifica si la palabra oculta es igual a la palabra ingresada por\n",
    "    # el usuario\n",
    "    if palabra_a_encontrar == palabra_ingresada:        \n",
    "        separador()\n",
    "        print(f\"\\t  {ansi_color_verde}Felicidades, Ganaste!!!{ansi_end}\")\n",
    "        separador()\n",
    "        break\n",
    "else:\n",
    "    print(f'{ansi_color_rojo}===> TE QUEDASTE SIN INTENTOS <==={ansi_end}')\n",
    "    print(f'- La palabra oculta es: {ansi_color_verde}{palabra_a_encontrar}{ansi_end}')"
   ]
  }
 ],
 "metadata": {
  "kernelspec": {
   "display_name": "bootcamp-venv",
   "language": "python",
   "name": "python3"
  },
  "language_info": {
   "codemirror_mode": {
    "name": "ipython",
    "version": 3
   },
   "file_extension": ".py",
   "mimetype": "text/x-python",
   "name": "python",
   "nbconvert_exporter": "python",
   "pygments_lexer": "ipython3",
   "version": "3.10.7"
  }
 },
 "nbformat": 4,
 "nbformat_minor": 5
}
