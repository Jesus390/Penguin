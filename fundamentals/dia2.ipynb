{
 "cells": [
  {
   "cell_type": "code",
   "execution_count": null,
   "id": "a512579c",
   "metadata": {},
   "outputs": [
    {
     "name": "stdout",
     "output_type": "stream",
     "text": [
      "Podes tomar pero no comprar.\n"
     ]
    }
   ],
   "source": [
    "# Pregunta al usuario su edad\n",
    "edad_usuario = int(input(\"Ingrese su edad.\"))\n",
    "\n",
    "\n",
    "# verificamos la edad del usuario\n",
    "if edad_usuario < 18:\n",
    "    print('Juguito nomas.')\n",
    "elif edad_usuario >= 21:\n",
    "    print('Hace lo que quieras.')\n",
    "else:\n",
    "    print('Podes tomar pero no comprar.')"
   ]
  },
  {
   "cell_type": "code",
   "execution_count": null,
   "id": "d5c8b13a",
   "metadata": {},
   "outputs": [
    {
     "name": "stdout",
     "output_type": "stream",
     "text": [
      "La temperatura ingresa: -5\n",
      "Fresquete.\n"
     ]
    }
   ],
   "source": [
    "# Solicita al usuario una temperatura\n",
    "temperatura = int(input(\"Ingrese la temperatura...\"))\n",
    "\n",
    "# Muestra la temperatura ingresada\n",
    "print(f\"La temperatura ingresada: {temperatura}` Celcius.\")\n",
    "\n",
    "# Verifica la temperatura\n",
    "if   temperatura >= -10 and temperatura <= 18:\n",
    "    print(\"Fresquete.\")\n",
    "elif temperatura >=  19 and temperatura <= 30:\n",
    "    print(\"Calor'i.\")\n",
    "elif temperatura >=  31 and temperatura <= 41:\n",
    "    print(\"Hakuuuuuu.\")\n",
    "else:\n",
    "    print(\"Nhamano mba'e!\")"
   ]
  },
  {
   "cell_type": "code",
   "execution_count": 12,
   "id": "169a5b84",
   "metadata": {},
   "outputs": [
    {
     "name": "stdout",
     "output_type": "stream",
     "text": [
      "Password incorrecto.\n",
      "Password incorrecto.\n",
      "Mensaje secreto.\n"
     ]
    }
   ],
   "source": [
    "# Password oculto\n",
    "password = \"]6_F^/0?s8JQ\"\n",
    "\n",
    "\n",
    "# Solicita al usuario la contrasenha\n",
    "while True:\n",
    "    # in_password: contiene el password ingresado por el usuario\n",
    "    in_password = input(\"Ingrese password...\")\n",
    "\n",
    "    # Verifica si el password ingresado es igual al password oculto\n",
    "    if password == in_password:\n",
    "        print(\"Mensaje secreto.\")\n",
    "        break\n",
    "\n",
    "    # Mensaje mostrado si el password ingresado es incorrecto\n",
    "    print(\"Password incorrecto.\")\n"
   ]
  },
  {
   "cell_type": "code",
   "execution_count": 14,
   "id": "66b89913",
   "metadata": {},
   "outputs": [
    {
     "name": "stdout",
     "output_type": "stream",
     "text": [
      "Lista original:\n",
      "['Cocodrilo', 'Avestruz', 'Leon', 'Elefante', 'Jirafa']\n",
      "Se agrego \"Hipopotamo\" a la lista original:\n",
      "['Cocodrilo', 'Avestruz', 'Leon', 'Elefante', 'Jirafa', 'Hipopotamo']\n",
      "Se modifico el segundo elemento por \"Hiena\":\n",
      "['Cocodrilo', 'Hiena', 'Leon', 'Elefante', 'Jirafa', 'Hipopotamo']\n",
      "Se elimino el tercer elemento:\n",
      "['Cocodrilo', 'Hiena', 'Elefante', 'Jirafa', 'Hipopotamo']\n"
     ]
    }
   ],
   "source": [
    "# Lista de animales\n",
    "list_animals = ['Cocodrilo', 'Avestruz', 'Leon', 'Elefante', 'Jirafa']\n",
    "print(f'Lista original:\\n{list_animals}')\n",
    "\n",
    "# Agrega un elemento 'Hipopotamo' a list_animals\n",
    "list_animals.append('Hipopotamo')\n",
    "print(f'Se agrego \"Hipopotamo\" a la lista original:\\n{list_animals}')\n",
    "\n",
    "# Modifica el segundo elemento\n",
    "list_animals[1] = 'Hiena'\n",
    "print(f'Se modifico el segundo elemento por \"Hiena\":\\n{list_animals}')\n",
    "\n",
    "# Elimina el tercer elemento\n",
    "list_animals.pop(2)\n",
    "print(f'Se elimino el tercer elemento:\\n{list_animals}')\n",
    "\n",
    "\n"
   ]
  },
  {
   "cell_type": "code",
   "execution_count": 15,
   "id": "91e83d8f",
   "metadata": {},
   "outputs": [
    {
     "name": "stdout",
     "output_type": "stream",
     "text": [
      "0 * 2 : 0\n",
      "1 * 2 : 2\n",
      "2 * 2 : 4\n",
      "3 * 2 : 6\n",
      "4 * 2 : 8\n",
      "5 * 2 : 10\n",
      "6 * 2 : 12\n",
      "7 * 2 : 14\n",
      "8 * 2 : 16\n",
      "9 * 2 : 18\n"
     ]
    }
   ],
   "source": [
    "# Challenge for-in\n",
    "for i in range(10):\n",
    "    print(f\"{i} * 2 : {i*2}\")"
   ]
  },
  {
   "cell_type": "code",
   "execution_count": null,
   "id": "8552c052",
   "metadata": {},
   "outputs": [
    {
     "name": "stdout",
     "output_type": "stream",
     "text": [
      "Aston Martin\n",
      "Hyundai\n"
     ]
    }
   ],
   "source": [
    "# Challenge complementario\n",
    "\n",
    "# Lista con valores de marcas de autos\n",
    "marcas = ['Audi', 'Aston Martin', 'BMW', 'Cupra', 'Dacia', 'Honda', 'Hyundai', 'Kia']\n",
    "\n",
    "# Recorremos la lista de marcas\n",
    "for marca in marcas:\n",
    "    # Verifica la longitud del elemento\n",
    "    # Cond.: longitud del elemento debe ser mayor o igual a 6\n",
    "    if len(marca) >= 6:\n",
    "        print(marca)\n",
    "\n"
   ]
  },
  {
   "cell_type": "code",
   "execution_count": 19,
   "id": "8bdb3226",
   "metadata": {},
   "outputs": [
    {
     "name": "stdout",
     "output_type": "stream",
     "text": [
      "Frase: Hola mundo, Bye mundo\n",
      "Letra encontrada\n",
      "Letra encontrada\n",
      "Letra encontrada\n"
     ]
    }
   ],
   "source": [
    "# Challenge complementario extra\n",
    "\n",
    "# Solicita la frase al usuario\n",
    "frase = input('Ingrese una frase...')\n",
    "\n",
    "# Frase ingresada\n",
    "print(f'Frase: {frase}')\n",
    "\n",
    "# Recorre el contenido de la variable 'frase'\n",
    "for letra in frase:\n",
    "    # Verifica si letra es igual a 'o'\n",
    "    if letra == 'o':\n",
    "        print('Letra encontrada')\n",
    "\n",
    "\n",
    "\n",
    "\n",
    "\n",
    "\n"
   ]
  },
  {
   "cell_type": "code",
   "execution_count": null,
   "id": "bd5b32a1",
   "metadata": {},
   "outputs": [],
   "source": []
  }
 ],
 "metadata": {
  "kernelspec": {
   "display_name": ".venv",
   "language": "python",
   "name": "python3"
  },
  "language_info": {
   "codemirror_mode": {
    "name": "ipython",
    "version": 3
   },
   "file_extension": ".py",
   "mimetype": "text/x-python",
   "name": "python",
   "nbconvert_exporter": "python",
   "pygments_lexer": "ipython3",
   "version": "3.12.3"
  }
 },
 "nbformat": 4,
 "nbformat_minor": 5
}
