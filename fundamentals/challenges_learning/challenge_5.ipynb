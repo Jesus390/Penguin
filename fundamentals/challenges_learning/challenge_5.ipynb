{
 "cells": [
  {
   "cell_type": "markdown",
   "metadata": {},
   "source": [
    "# Challenge 5: Multiplicar una Lista de Números\n",
    "\n",
    "Escribe una función llamada multiplicar_lista() que reciba una lista de números\n",
    "como parámetro y devuelva el resultado de multiplicar todos los elementos de la lista.\n"
   ]
  },
  {
   "cell_type": "code",
   "execution_count": null,
   "metadata": {},
   "outputs": [
    {
     "data": {
      "text/plain": [
       "24"
      ]
     },
     "execution_count": 4,
     "metadata": {},
     "output_type": "execute_result"
    }
   ],
   "source": [
    "def multiplicar_lista(numeros):\n",
    "    aux = 1\n",
    "    for numero in numeros:\n",
    "        aux *= numero\n",
    "    return aux\n",
    "\n",
    "\n",
    "multiplicar_lista([2, 3, 4])"
   ]
  }
 ],
 "metadata": {
  "kernelspec": {
   "display_name": "bootcamp-venv",
   "language": "python",
   "name": "python3"
  },
  "language_info": {
   "codemirror_mode": {
    "name": "ipython",
    "version": 3
   },
   "file_extension": ".py",
   "mimetype": "text/x-python",
   "name": "python",
   "nbconvert_exporter": "python",
   "pygments_lexer": "ipython3",
   "version": "3.10.7"
  }
 },
 "nbformat": 4,
 "nbformat_minor": 2
}
