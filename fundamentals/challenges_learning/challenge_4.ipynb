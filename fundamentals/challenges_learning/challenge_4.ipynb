{
 "cells": [
  {
   "cell_type": "markdown",
   "metadata": {},
   "source": [
    "# Challenge 4: Peluche\n",
    "\n",
    "Crea una clase Peluche con los atributos:\n",
    "\n",
    "- nombre\n",
    "- tamaño\n",
    "\n",
    "La clase debe tener un método abrazar() que imprima algo como: \"¡Es hora de\n",
    "abrazar a [nombre], el peluche de tamaño [tamaño]!\"\n",
    "\n",
    "Luego, crea un peluche y haz que sea abrazado.\n",
    "\n",
    "Conceptos usados:\n",
    "\n",
    "- Clases, Atributos, Métodos.\n"
   ]
  },
  {
   "cell_type": "code",
   "execution_count": null,
   "metadata": {},
   "outputs": [
    {
     "name": "stdout",
     "output_type": "stream",
     "text": [
      "¡Es hora de abrazar a Yogi, el peluche de tamaño 70!.\n"
     ]
    }
   ],
   "source": [
    "class Peluche:\n",
    "    def __init__(self, name, size):\n",
    "        self.name = name\n",
    "        self.size = size\n",
    "\n",
    "    def abrazar(self):\n",
    "        print(f\"¡Es hora de abrazar a {self.name}, el peluche de tamaño {self.size}!.\")\n",
    "\n",
    "\n",
    "peluche = Peluche(\"Yogi\", 70)\n",
    "peluche.abrazar()"
   ]
  }
 ],
 "metadata": {
  "kernelspec": {
   "display_name": "bootcamp-venv",
   "language": "python",
   "name": "python3"
  },
  "language_info": {
   "codemirror_mode": {
    "name": "ipython",
    "version": 3
   },
   "file_extension": ".py",
   "mimetype": "text/x-python",
   "name": "python",
   "nbconvert_exporter": "python",
   "pygments_lexer": "ipython3",
   "version": "3.10.7"
  }
 },
 "nbformat": 4,
 "nbformat_minor": 2
}
