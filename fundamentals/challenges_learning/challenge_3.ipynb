{
 "cells": [
  {
   "cell_type": "markdown",
   "metadata": {},
   "source": [
    "# Challenge 3: La Clase Animal\n",
    "\n",
    "Crea una clase llamada Animal que tenga los atributos:\n",
    "\n",
    "- nombre\n",
    "- edad\n",
    "\n",
    "La clase debe tener un método llamado presentarse() que imprima algo como:\n",
    "\n",
    "\"¡Hola! Soy [nombre] y tengo [edad] años\". Luego, crea instancias de un perro y un gato y haz que ambos se presenten."
   ]
  },
  {
   "cell_type": "code",
   "execution_count": 2,
   "metadata": {},
   "outputs": [
    {
     "name": "stdout",
     "output_type": "stream",
     "text": [
      "¡Hola! Soy Firulais y tengo 3 años.\n",
      "¡Hola! Soy Michito y tengo 4 años.\n"
     ]
    }
   ],
   "source": [
    "class Animal:\n",
    "    def __init__(self, nombre, edad):\n",
    "        self.nombre = nombre\n",
    "        self.edad = edad\n",
    "\n",
    "    def presentarse(self):\n",
    "        print(f\"¡Hola! Soy {self.nombre} y tengo {self.edad} años.\")\n",
    "\n",
    "perro = Animal(\"Firulais\", 3)\n",
    "gato = Animal(\"Michito\", 4)\n",
    "\n",
    "\n",
    "perro.presentarse()\n",
    "gato.presentarse()"
   ]
  }
 ],
 "metadata": {
  "kernelspec": {
   "display_name": "bootcamp-venv",
   "language": "python",
   "name": "python3"
  },
  "language_info": {
   "codemirror_mode": {
    "name": "ipython",
    "version": 3
   },
   "file_extension": ".py",
   "mimetype": "text/x-python",
   "name": "python",
   "nbconvert_exporter": "python",
   "pygments_lexer": "ipython3",
   "version": "3.10.7"
  }
 },
 "nbformat": 4,
 "nbformat_minor": 2
}
