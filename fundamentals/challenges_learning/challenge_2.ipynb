{
 "cells": [
  {
   "cell_type": "markdown",
   "metadata": {},
   "source": [
    "# Challenge 2: Adivina el Número\n",
    "\n",
    "Crea un juego simple en el que el usuario tiene que adivinar un número secreto. El usuario puede hacer 3 intentos. Cada vez que falle, el programa debe decir si el número secreto es mayor o menor al ingresado. Si el usuario adivina, debe mostrar \"¡Felicidades! Adivinaste\"."
   ]
  },
  {
   "cell_type": "code",
   "execution_count": 27,
   "metadata": {},
   "outputs": [
    {
     "name": "stdout",
     "output_type": "stream",
     "text": [
      "--------------------------------------------------\n",
      "\t\tSTART GAME\n",
      "--------------------------------------------------\n",
      "Adivina el numero generado del 0 al 10.\n",
      "Numero generado: 9\n",
      "--------------------------------------------------\n",
      "Número de intentos: 3\n",
      "Error: ingrese un valor valido.\n",
      "Valor ingresado: 4\n",
      "Ingresar un número entre el 0 y 10.\n",
      "Error: ingrese un valor valido.\n",
      "Valor ingresado: 4\n",
      "Ingresar un número entre el 0 y 10.\n",
      "Error: ingrese un valor valido.\n",
      "Valor ingresado: 4\n",
      "Ingresar un número entre el 0 y 10.\n",
      "Error: ingrese un valor valido.\n",
      "Valor ingresado: 4\n",
      "Ingresar un número entre el 0 y 10.\n",
      "Error: ingrese un valor valido.\n",
      "Valor ingresado: 4\n",
      "Ingresar un número entre el 0 y 10.\n",
      "Error: ingrese un valor valido.\n",
      "Valor ingresado: 4\n",
      "Ingresar un número entre el 0 y 10.\n",
      "Sorry... Fallaste. El numero ingresado es mayor.\n",
      "Número de intentos: 2\n",
      "¡Felicidades! Adivinaste.\n"
     ]
    }
   ],
   "source": [
    "import random\n",
    "\n",
    "# numero de intentos\n",
    "numero_de_intentos = 3\n",
    "\n",
    "# Numero secreto\n",
    "numero_secreto = random.randint(0, 10)\n",
    "\n",
    "len_caracter = 50\n",
    "\n",
    "print('-' * len_caracter)\n",
    "print('\\t\\tSTART GAME')\n",
    "print('-' * len_caracter)\n",
    "print('Adivina el numero generado del 0 al 10.')\n",
    "print(f'Numero generado: {numero_secreto}')\n",
    "print('-' * len_caracter)\n",
    "\n",
    "print(f\"Número de intentos: {numero_de_intentos}\")\n",
    "while numero_de_intentos > 0:\n",
    "    while True:\n",
    "        try:\n",
    "            input_usuario = int(input(\"Ingrese un numero entre 0 y 10 para adivinar el numero secreto.\"))\n",
    "            break\n",
    "        except:\n",
    "            print('Error: ingrese un valor valido.')\n",
    "            print(\"Ingresar un número entre el 0 y 10.\")\n",
    "\n",
    "    if numero_secreto == input_usuario:\n",
    "        print(\"¡Felicidades! Adivinaste.\")\n",
    "        break\n",
    "    else:\n",
    "        print(f\"Sorry... Fallaste. El numero ingresado es {'mayor' if numero_secreto > input_usuario else 'menor'}.\")\n",
    "        \n",
    "    numero_de_intentos -= 1\n",
    "    print(f\"Número de intentos: {numero_de_intentos}\")\n",
    "    "
   ]
  }
 ],
 "metadata": {
  "kernelspec": {
   "display_name": "bootcamp-venv",
   "language": "python",
   "name": "python3"
  },
  "language_info": {
   "codemirror_mode": {
    "name": "ipython",
    "version": 3
   },
   "file_extension": ".py",
   "mimetype": "text/x-python",
   "name": "python",
   "nbconvert_exporter": "python",
   "pygments_lexer": "ipython3",
   "version": "3.10.7"
  }
 },
 "nbformat": 4,
 "nbformat_minor": 2
}
